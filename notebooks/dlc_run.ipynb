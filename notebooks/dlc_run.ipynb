{
 "cells": [
  {
   "cell_type": "markdown",
   "metadata": {},
   "source": [
    "# Preliminary items\n",
    "\n",
    "This is based largely on [the DLC User Guide](https://github.com/DeepLabCut/DeepLabCut/blob/master/docs/standardDeepLabCut_UserGuide.md), which provides more detail than the text offered here.\n",
    "\n",
    "We've assumed here that DLC has been installed on your system. We'll further assume that you are acquiring 2D data from videos that include a single animal.\n",
    "\n",
    "It is also critical that you install and an environment for DLC and that you run this code from within the environment. See the [installation instructions](https://github.com/DeepLabCut/DeepLabCut/blob/master/docs/installation.md) for details.\n",
    "\n",
    "As explained in the user guide, it's a good idea to trim the duration, crop the frames, compress the video a bit, and downsample the resolution of your videos to have DLC run more efficiently. See our [dlc_preprocess](dlc_preprocess.ipynb) notebook for our own command-line tricks to trim down your movies. [Mathis and Warren (2018)](https://www.biorxiv.org/content/10.1101/457242v1.abstract) details the effects of video compression and other factors on the accuracy and speed of DLC.\n",
    "\n",
    "You'll want to adjust the parameters below for your particular computer and project."
   ]
  },
  {
   "cell_type": "code",
   "execution_count": 5,
   "metadata": {},
   "outputs": [],
   "source": [
    "# Import essential packages\n",
    "import deeplabcut as dlc\n",
    "import os\n",
    "from sources import dlc_help as dlch\n",
    "\n",
    "# Customize these titles for your project \n",
    "projName            = 'geotaxis'\n",
    "investigatorName    = 'mmchenry'\n",
    "\n",
    "# Path to project directory (where dlc data will be stored)\n",
    "dataPath = '/Users/mmchenry/Documents/Projects/geotaxis/dlc'\n",
    "\n",
    "# Place all your videos for training and analysis in a directory and specify the path to that directory here\n",
    "videoPath   = '/Users/mmchenry/Documents/Projects/geotaxis/Videos'\n",
    "\n",
    "# Extension to video files\n",
    "vidFileExt = 'mp4'"
   ]
  },
  {
   "cell_type": "markdown",
   "metadata": {},
   "source": [
    "# Create a new project\n",
    "Run the following line of code to initialize a new project. Skip this section if the project was previously created.\n",
    "\n",
    "Note that, if you want to have all contents for the project in a single directory that may easily be copied to another computer, then set 'copy_videos=True'."
   ]
  },
  {
   "cell_type": "code",
   "execution_count": null,
   "metadata": {},
   "outputs": [],
   "source": [
    "# Generate list of video files in trainingVideoPath directory\n",
    "pathList = dlch.list_paths(videoPath, vidFileExt)\n",
    "# print(pathList) # Uncomment to display list of video files\n",
    "\n",
    "# dlc command to create the project\n",
    "dlc.create_new_project(projName, investigatorName, pathList, dataPath, copy_videos=True, multianimal=False)"
   ]
  },
  {
   "cell_type": "markdown",
   "metadata": {},
   "source": [
    "# Project path\n",
    "If you just created a new project, find the directories and files created in the project directory at dataPath and open config.yaml (within the dataPath directory) and copy and paste the project_path into the cell below. \n",
    "\n",
    "For either new or old projects, excute the cell below to define the project path and location of config.yaml for subsequent cells."
   ]
  },
  {
   "cell_type": "code",
   "execution_count": 7,
   "metadata": {},
   "outputs": [],
   "source": [
    "project_path    = '/Users/mmchenry/Documents/Projects/geotaxis/dlc/geotaxis-mmchenry-2022-05-25' \n",
    "# project_path = '/run/user/1000/gvfs/smb-share:server=mattbook2.local,share=geotaxis'\n",
    "\n",
    "# Path to config file\n",
    "configPath = project_path + os.path.sep + 'config.yaml'"
   ]
  },
  {
   "cell_type": "markdown",
   "metadata": {},
   "source": [
    "# Designate your list of landmarks\n",
    "\n",
    "The config.yaml file lists key items for your project (see [this page](https://camo.githubusercontent.com/6a5086ab4a01f9eaf41e6972d86785faed0806c69a83d68a5f8b981f0cae4965/68747470733a2f2f737461746963312e73717561726573706163652e636f6d2f7374617469632f3537663664353163396637343536366635356563663237312f742f3563343066343132346437613963306232636536353163312f313534373736303731363239382f426f78312d30312e706e673f666f726d61743d3130303077) for the full glossary of parameters), including a listing of the landmarks that will be tracked (under the 'bodyparts' heading). \n",
    "\n",
    "Delete the entries of '- bodypart1', '- bodypart2' , etc. and key in your own landmarks (e.g., '- nose', '- eye', '- tail').\n",
    "\n",
    "If you want to include lines that link together these landmarks in the visualization tools later, then you can specify linked points under 'skeleton:', for example a link between the nose and eye would be specified like this:\n",
    "\n",
    "    - - nose\n",
    "      - eye\n",
    "\n",
    "There are a variety of other visualization parameters that you can tweak to vary the display of landmarks.\n",
    "\n",
    "There are other parameters that will come up as we proceed through the workflow, so keep track of the location of your config.yaml file."
   ]
  },
  {
   "cell_type": "markdown",
   "metadata": {},
   "source": [
    "# Extract frames\n",
    "This section copies frames from your videos for you to annotate with landmark positions.\n",
    "\n",
    "We have configured the 'extract_frames' function with the defaults. \n",
    "\n",
    "Here, we are using the 'kmeans' algorithm to select and downsample frames. This neglects color information, so you would want to enter algo='uniform' if you think color is helpful (though this takes more computational time). Also, you will want to configure things differently if you are doing a supplemental round of training.\n",
    "\n",
    "It is possible to manually select frames and to exert more control through other parameters, as explained in the user guide. \n",
    "\n",
    "Frame extraction might take some time to complete. Copies of the frames are save to directories named after each video, in the 'labeled-data' directory. Browse to those directories to see the frames that will be used for the training.\n",
    "\n",
    "As a general rule of thumb 100 - 200 labeled frames may be sufficient to train your network, although it never hurts to use more frames. In config.yaml, the 'numframes2paick' parameter sets the number of frames extracted from each video in your project. So, you might adjust that number based on how many videos you have in your project to aim for ~200 frames.\n",
    "\n",
    "\n",
    "<!-- The choice of which training network to use is another factor. The different options are described [here](https://deeplabcut.github.io/DeepLabCut/docs/recipes/nn.html). The default (ResNet-50) is a good place to start, if you have an expensive GPU and are not sure if your videos are going to offer a big challenge. The MobileNets are worth considering if you're running DLC on a CPU. You can try different networks later. -->\n",
    "\n",
    "<!-- There is the ability to specify a region-of-interest in the videos, but we haven't had much luck getting that to work and it's not a bad idea to crop the videos ahead of runnign DLC to reduce their file size anyway.  DLC is much more time-efficient with videos of smaller file size. -->\n",
    "\n",
    "<!-- 'TrainingFraction' is the (number of training videos) / (total number of videos), so you might adjust this based on how many training videos you want to work through. --> \n",
    "\n",
    "<!-- On an initial training, shoot for 100 - 200 frames for training. If 'extract_frames' reports the number of frames being extracted outside that range, adjust the 'TrainingFraction' and 'numframes2pick' parameters in config.yaml, delete the contents of the 'labeled-data' directory, and run it again. -->"
   ]
  },
  {
   "cell_type": "code",
   "execution_count": null,
   "metadata": {},
   "outputs": [],
   "source": [
    "# Run command to extract frames for landmark tracking\n",
    "dlc.extract_frames(configPath, mode='automatic', algo='kmeans', userfeedback=False, crop=False)"
   ]
  },
  {
   "cell_type": "markdown",
   "metadata": {},
   "source": [
    "# Label frames\n",
    "\n",
    "Here, we're using the parameter defaults, which assume that we're not training for 3D experiments or tracking multiple animals.\n",
    "\n",
    "Try launching the GUI for landmark selection by running the cell below."
   ]
  },
  {
   "cell_type": "code",
   "execution_count": null,
   "metadata": {},
   "outputs": [],
   "source": [
    "dlc.label_frames(configPath)"
   ]
  },
  {
   "cell_type": "markdown",
   "metadata": {},
   "source": [
    "On my Mac, this did not work due to trouble with GUIs from a jupyter notebooks. I'm sure there's a fix for this, but I just ran the command outside of this notebook with the following steps:\n",
    "\n",
    "1. Launch a Terminal window\n",
    "1. Launch a verson of python that can handle GUIs in the correct environment (e.g., 'DEEPLABCUT_M1' or 'DEEPLABCUT' for \\<env name\\>) with the following commands:\n",
    "\n",
    "        conda activate <env name>; pythonw\n",
    "\n",
    "1. Define configPath, something like this:\n",
    "\n",
    "        configPath = '/Users/mmchenry/Documents/Projects/geotaxis/dlc/geotaxis-mmchenry-2022-05-20/config.yaml'\n",
    "\n",
    "1. Import deeplabcut\n",
    "\n",
    "        import deeplabcut as dlc\n",
    "\n",
    "1. Then, run the command:\n",
    "\n",
    "        dlc.label_frames(configPath)"
   ]
  },
  {
   "cell_type": "markdown",
   "metadata": {},
   "source": [
    "I recommend reading the \"(D) Label Frames\" section of [the DLC User Guide](https://github.com/DeepLabCut/DeepLabCut/blob/master/docs/standardDeepLabCut_UserGuide.md) to get oriented on how the GUI works. The general idea is to pick off the coordinates of landmarks among all extracted frames from your videos. Skip on selecting coordinates for any landmarks that are not visible.\n",
    "\n",
    "The coordinates are stored in each directory that holds the extracted frames, within 'labeled-data' in two files (csv and h5) that start with 'CollectedData'. If you load a set of images using label_frames, it is the data in the h5 file that is plotted on the frames, not the csv version. So, I suspect that the csv version is added there to offer a human-readable version of the data that is not used later in the training."
   ]
  },
  {
   "cell_type": "markdown",
   "metadata": {},
   "source": [
    "# Check annotated frames\n",
    "\n",
    "Run this to check the frame annotation. It creates a version of each labeled frame in directories that end in '_labeled' in the 'labeled-data' directory. Those images will serve as a check on the annotation, in case the training does not go well."
   ]
  },
  {
   "cell_type": "code",
   "execution_count": null,
   "metadata": {},
   "outputs": [],
   "source": [
    "dlc.check_labels(configPath, visualizeindividuals=False)"
   ]
  },
  {
   "cell_type": "markdown",
   "metadata": {},
   "source": [
    "# Transfer the project to a desktop machine\n",
    "\n",
    "If you are running dlc on a laptop up to this point, it may make sense to transfer the project over to a different computer at this point. See [this doc](/docs/proj_transfer) for details."
   ]
  },
  {
   "cell_type": "markdown",
   "metadata": {},
   "source": [
    "# Create training dataset\n",
    "\n",
    "This portion needs to be run on the machine that is going to perform the training. \n",
    "Note that trainings may be performed multiple times for the same project. \n",
    "Each 'iteration' of training has the potential to improve the neural network by building on the weightings of a prior training with corrections or additional training data. \n",
    "For each iteration, you will run the function 'create_training_dataset', which sets up a training iteration in a few steps and allows you to specify some parameters about the training, like the network type. \n",
    "For our present purposes, we'll only specify the type of augmenter because that's what they recommend in the [User Guide](https://deeplabcut.github.io/DeepLabCut/docs/standardDeepLabCut_UserGuide.html), which means the default network type will be used (net_type= 'resnet_50').\n",
    "\n",
    "<!-- ## Products of create_training_dataset\n",
    "\n",
    "Within the 'training-datasets' directory, a subdirectory will be created for each iteration, which holds another subdirectory, which holds a copy of annotated coordinates for all videos in .csv and .h5 formats. \n",
    "In addition, .pickle and .mat files are stored there. The User Guide says that the .mat file  \"is used by the feature detectors\" and the .pickle file \"contains the meta information about the training dataset.\" \n",
    "Not really sure what all that means, but we'll move on for now.\n",
    "\n",
    "In the 'dlc-models' directory, a similar hierarchy of directories will be created and the directory created for each iteration will hold 'train' and 'test' directories. \n",
    "Both store parameter values within a pose_cfg.yaml file. \n",
    "In the 'train' directory, that file can be directly edited to alter the training. \n",
    "We do not need to worry about that on this first pass, but I'm merely pointing out some of the files generated for future reference. -->\n",
    "\n",
    "\n",
    "\n",
    "\n",
    "\n"
   ]
  },
  {
   "cell_type": "code",
   "execution_count": null,
   "metadata": {},
   "outputs": [],
   "source": [
    "dlc.create_training_dataset(configPath, augmenter_type='imgaug',net_ypye)"
   ]
  },
  {
   "cell_type": "markdown",
   "metadata": {},
   "source": [
    "# Train the network\n",
    "\n",
    "On this first pass, we'll use all parameter defaults for running the training.\n",
    "\n"
   ]
  },
  {
   "cell_type": "code",
   "execution_count": null,
   "metadata": {},
   "outputs": [],
   "source": [
    "dlc.train_network(configPath,maxiters=30000)"
   ]
  },
  {
   "cell_type": "code",
   "execution_count": 8,
   "metadata": {},
   "outputs": [
    {
     "ename": "ValueError",
     "evalue": "Invalid object to compare with NumpyVersion.",
     "output_type": "error",
     "traceback": [
      "\u001b[0;31m---------------------------------------------------------------------------\u001b[0m",
      "\u001b[0;31mValueError\u001b[0m                                Traceback (most recent call last)",
      "\u001b[0;32m/var/folders/90/3jb02y3516l0d2ygj4cshjxh0000gn/T/ipykernel_2255/491983711.py\u001b[0m in \u001b[0;36m<module>\u001b[0;34m\u001b[0m\n\u001b[0;32m----> 1\u001b[0;31m \u001b[0mdlc\u001b[0m\u001b[0;34m.\u001b[0m\u001b[0mevaluate_network\u001b[0m\u001b[0;34m(\u001b[0m\u001b[0mconfigPath\u001b[0m\u001b[0;34m,\u001b[0m\u001b[0mShuffles\u001b[0m\u001b[0;34m=\u001b[0m\u001b[0;34m[\u001b[0m\u001b[0;36m1\u001b[0m\u001b[0;34m]\u001b[0m\u001b[0;34m,\u001b[0m \u001b[0mplotting\u001b[0m\u001b[0;34m=\u001b[0m\u001b[0;32mTrue\u001b[0m\u001b[0;34m)\u001b[0m\u001b[0;34m\u001b[0m\u001b[0;34m\u001b[0m\u001b[0m\n\u001b[0m",
      "\u001b[0;32m~/opt/anaconda3/envs/DEEPLABCUT_M1/lib/python3.7/site-packages/deeplabcut/pose_estimation_tensorflow/core/evaluate.py\u001b[0m in \u001b[0;36mevaluate_network\u001b[0;34m(config, Shuffles, trainingsetindex, plotting, show_errors, comparisonbodyparts, gputouse, rescale, modelprefix)\u001b[0m\n\u001b[1;32m    627\u001b[0m                 \u001b[0mcfg\u001b[0m\u001b[0;34m[\u001b[0m\u001b[0;34m\"project_path\"\u001b[0m\u001b[0;34m]\u001b[0m\u001b[0;34m,\u001b[0m\u001b[0;34m\u001b[0m\u001b[0;34m\u001b[0m\u001b[0m\n\u001b[1;32m    628\u001b[0m                 \u001b[0mstr\u001b[0m\u001b[0;34m(\u001b[0m\u001b[0mtrainingsetfolder\u001b[0m\u001b[0;34m)\u001b[0m\u001b[0;34m,\u001b[0m\u001b[0;34m\u001b[0m\u001b[0;34m\u001b[0m\u001b[0m\n\u001b[0;32m--> 629\u001b[0;31m                 \u001b[0;34m\"CollectedData_\"\u001b[0m \u001b[0;34m+\u001b[0m \u001b[0mcfg\u001b[0m\u001b[0;34m[\u001b[0m\u001b[0;34m\"scorer\"\u001b[0m\u001b[0;34m]\u001b[0m \u001b[0;34m+\u001b[0m \u001b[0;34m\".h5\"\u001b[0m\u001b[0;34m,\u001b[0m\u001b[0;34m\u001b[0m\u001b[0;34m\u001b[0m\u001b[0m\n\u001b[0m\u001b[1;32m    630\u001b[0m             )\n\u001b[1;32m    631\u001b[0m         )\n",
      "\u001b[0;32m~/opt/anaconda3/envs/DEEPLABCUT_M1/lib/python3.7/site-packages/pandas/io/pytables.py\u001b[0m in \u001b[0;36mread_hdf\u001b[0;34m(path_or_buf, key, mode, errors, where, start, stop, columns, iterator, chunksize, **kwargs)\u001b[0m\n\u001b[1;32m    427\u001b[0m             \u001b[0;32mraise\u001b[0m \u001b[0mFileNotFoundError\u001b[0m\u001b[0;34m(\u001b[0m\u001b[0;34mf\"File {path_or_buf} does not exist\"\u001b[0m\u001b[0;34m)\u001b[0m\u001b[0;34m\u001b[0m\u001b[0;34m\u001b[0m\u001b[0m\n\u001b[1;32m    428\u001b[0m \u001b[0;34m\u001b[0m\u001b[0m\n\u001b[0;32m--> 429\u001b[0;31m         \u001b[0mstore\u001b[0m \u001b[0;34m=\u001b[0m \u001b[0mHDFStore\u001b[0m\u001b[0;34m(\u001b[0m\u001b[0mpath_or_buf\u001b[0m\u001b[0;34m,\u001b[0m \u001b[0mmode\u001b[0m\u001b[0;34m=\u001b[0m\u001b[0mmode\u001b[0m\u001b[0;34m,\u001b[0m \u001b[0merrors\u001b[0m\u001b[0;34m=\u001b[0m\u001b[0merrors\u001b[0m\u001b[0;34m,\u001b[0m \u001b[0;34m**\u001b[0m\u001b[0mkwargs\u001b[0m\u001b[0;34m)\u001b[0m\u001b[0;34m\u001b[0m\u001b[0;34m\u001b[0m\u001b[0m\n\u001b[0m\u001b[1;32m    430\u001b[0m         \u001b[0;31m# can't auto open/close if we are using an iterator\u001b[0m\u001b[0;34m\u001b[0m\u001b[0;34m\u001b[0m\u001b[0;34m\u001b[0m\u001b[0m\n\u001b[1;32m    431\u001b[0m         \u001b[0;31m# so delegate to the iterator\u001b[0m\u001b[0;34m\u001b[0m\u001b[0;34m\u001b[0m\u001b[0;34m\u001b[0m\u001b[0m\n",
      "\u001b[0;32m~/opt/anaconda3/envs/DEEPLABCUT_M1/lib/python3.7/site-packages/pandas/io/pytables.py\u001b[0m in \u001b[0;36m__init__\u001b[0;34m(self, path, mode, complevel, complib, fletcher32, **kwargs)\u001b[0m\n\u001b[1;32m    570\u001b[0m             \u001b[0;32mraise\u001b[0m \u001b[0mValueError\u001b[0m\u001b[0;34m(\u001b[0m\u001b[0;34m\"format is not a defined argument for HDFStore\"\u001b[0m\u001b[0;34m)\u001b[0m\u001b[0;34m\u001b[0m\u001b[0;34m\u001b[0m\u001b[0m\n\u001b[1;32m    571\u001b[0m \u001b[0;34m\u001b[0m\u001b[0m\n\u001b[0;32m--> 572\u001b[0;31m         \u001b[0mtables\u001b[0m \u001b[0;34m=\u001b[0m \u001b[0mimport_optional_dependency\u001b[0m\u001b[0;34m(\u001b[0m\u001b[0;34m\"tables\"\u001b[0m\u001b[0;34m)\u001b[0m\u001b[0;34m\u001b[0m\u001b[0;34m\u001b[0m\u001b[0m\n\u001b[0m\u001b[1;32m    573\u001b[0m \u001b[0;34m\u001b[0m\u001b[0m\n\u001b[1;32m    574\u001b[0m         \u001b[0;32mif\u001b[0m \u001b[0mcomplib\u001b[0m \u001b[0;32mis\u001b[0m \u001b[0;32mnot\u001b[0m \u001b[0;32mNone\u001b[0m \u001b[0;32mand\u001b[0m \u001b[0mcomplib\u001b[0m \u001b[0;32mnot\u001b[0m \u001b[0;32min\u001b[0m \u001b[0mtables\u001b[0m\u001b[0;34m.\u001b[0m\u001b[0mfilters\u001b[0m\u001b[0;34m.\u001b[0m\u001b[0mall_complibs\u001b[0m\u001b[0;34m:\u001b[0m\u001b[0;34m\u001b[0m\u001b[0;34m\u001b[0m\u001b[0m\n",
      "\u001b[0;32m~/opt/anaconda3/envs/DEEPLABCUT_M1/lib/python3.7/site-packages/pandas/compat/_optional.py\u001b[0m in \u001b[0;36mimport_optional_dependency\u001b[0;34m(name, extra, errors, min_version)\u001b[0m\n\u001b[1;32m    113\u001b[0m     )\n\u001b[1;32m    114\u001b[0m     \u001b[0;32mtry\u001b[0m\u001b[0;34m:\u001b[0m\u001b[0;34m\u001b[0m\u001b[0;34m\u001b[0m\u001b[0m\n\u001b[0;32m--> 115\u001b[0;31m         \u001b[0mmodule\u001b[0m \u001b[0;34m=\u001b[0m \u001b[0mimportlib\u001b[0m\u001b[0;34m.\u001b[0m\u001b[0mimport_module\u001b[0m\u001b[0;34m(\u001b[0m\u001b[0mname\u001b[0m\u001b[0;34m)\u001b[0m\u001b[0;34m\u001b[0m\u001b[0;34m\u001b[0m\u001b[0m\n\u001b[0m\u001b[1;32m    116\u001b[0m     \u001b[0;32mexcept\u001b[0m \u001b[0mImportError\u001b[0m\u001b[0;34m:\u001b[0m\u001b[0;34m\u001b[0m\u001b[0;34m\u001b[0m\u001b[0m\n\u001b[1;32m    117\u001b[0m         \u001b[0;32mif\u001b[0m \u001b[0merrors\u001b[0m \u001b[0;34m==\u001b[0m \u001b[0;34m\"raise\"\u001b[0m\u001b[0;34m:\u001b[0m\u001b[0;34m\u001b[0m\u001b[0;34m\u001b[0m\u001b[0m\n",
      "\u001b[0;32m~/opt/anaconda3/envs/DEEPLABCUT_M1/lib/python3.7/importlib/__init__.py\u001b[0m in \u001b[0;36mimport_module\u001b[0;34m(name, package)\u001b[0m\n\u001b[1;32m    125\u001b[0m                 \u001b[0;32mbreak\u001b[0m\u001b[0;34m\u001b[0m\u001b[0;34m\u001b[0m\u001b[0m\n\u001b[1;32m    126\u001b[0m             \u001b[0mlevel\u001b[0m \u001b[0;34m+=\u001b[0m \u001b[0;36m1\u001b[0m\u001b[0;34m\u001b[0m\u001b[0;34m\u001b[0m\u001b[0m\n\u001b[0;32m--> 127\u001b[0;31m     \u001b[0;32mreturn\u001b[0m \u001b[0m_bootstrap\u001b[0m\u001b[0;34m.\u001b[0m\u001b[0m_gcd_import\u001b[0m\u001b[0;34m(\u001b[0m\u001b[0mname\u001b[0m\u001b[0;34m[\u001b[0m\u001b[0mlevel\u001b[0m\u001b[0;34m:\u001b[0m\u001b[0;34m]\u001b[0m\u001b[0;34m,\u001b[0m \u001b[0mpackage\u001b[0m\u001b[0;34m,\u001b[0m \u001b[0mlevel\u001b[0m\u001b[0;34m)\u001b[0m\u001b[0;34m\u001b[0m\u001b[0;34m\u001b[0m\u001b[0m\n\u001b[0m\u001b[1;32m    128\u001b[0m \u001b[0;34m\u001b[0m\u001b[0m\n\u001b[1;32m    129\u001b[0m \u001b[0;34m\u001b[0m\u001b[0m\n",
      "\u001b[0;32m~/opt/anaconda3/envs/DEEPLABCUT_M1/lib/python3.7/importlib/_bootstrap.py\u001b[0m in \u001b[0;36m_gcd_import\u001b[0;34m(name, package, level)\u001b[0m\n",
      "\u001b[0;32m~/opt/anaconda3/envs/DEEPLABCUT_M1/lib/python3.7/importlib/_bootstrap.py\u001b[0m in \u001b[0;36m_find_and_load\u001b[0;34m(name, import_)\u001b[0m\n",
      "\u001b[0;32m~/opt/anaconda3/envs/DEEPLABCUT_M1/lib/python3.7/importlib/_bootstrap.py\u001b[0m in \u001b[0;36m_find_and_load_unlocked\u001b[0;34m(name, import_)\u001b[0m\n",
      "\u001b[0;32m~/opt/anaconda3/envs/DEEPLABCUT_M1/lib/python3.7/importlib/_bootstrap.py\u001b[0m in \u001b[0;36m_load_unlocked\u001b[0;34m(spec)\u001b[0m\n",
      "\u001b[0;32m~/opt/anaconda3/envs/DEEPLABCUT_M1/lib/python3.7/importlib/_bootstrap_external.py\u001b[0m in \u001b[0;36mexec_module\u001b[0;34m(self, module)\u001b[0m\n",
      "\u001b[0;32m~/opt/anaconda3/envs/DEEPLABCUT_M1/lib/python3.7/importlib/_bootstrap.py\u001b[0m in \u001b[0;36m_call_with_frames_removed\u001b[0;34m(f, *args, **kwds)\u001b[0m\n",
      "\u001b[0;32m~/opt/anaconda3/envs/DEEPLABCUT_M1/lib/python3.7/site-packages/tables/__init__.py\u001b[0m in \u001b[0;36m<module>\u001b[0;34m\u001b[0m\n\u001b[1;32m      9\u001b[0m \u001b[0;34m\u001b[0m\u001b[0m\n\u001b[1;32m     10\u001b[0m \u001b[0;31m# Necessary imports to get versions stored on the cython extension\u001b[0m\u001b[0;34m\u001b[0m\u001b[0;34m\u001b[0m\u001b[0;34m\u001b[0m\u001b[0m\n\u001b[0;32m---> 11\u001b[0;31m \u001b[0;32mfrom\u001b[0m \u001b[0;34m.\u001b[0m\u001b[0mutilsextension\u001b[0m \u001b[0;32mimport\u001b[0m \u001b[0mget_hdf5_version\u001b[0m \u001b[0;32mas\u001b[0m \u001b[0m_get_hdf5_version\u001b[0m\u001b[0;34m\u001b[0m\u001b[0;34m\u001b[0m\u001b[0m\n\u001b[0m\u001b[1;32m     12\u001b[0m \u001b[0;34m\u001b[0m\u001b[0m\n\u001b[1;32m     13\u001b[0m \u001b[0;34m\u001b[0m\u001b[0m\n",
      "\u001b[0;32m~/opt/anaconda3/envs/DEEPLABCUT_M1/lib/python3.7/site-packages/tables/utilsextension.pyx\u001b[0m in \u001b[0;36minit tables.utilsextension\u001b[0;34m()\u001b[0m\n",
      "\u001b[0;32m~/opt/anaconda3/envs/DEEPLABCUT_M1/lib/python3.7/site-packages/tables/description.py\u001b[0m in \u001b[0;36m<module>\u001b[0;34m\u001b[0m\n\u001b[1;32m      6\u001b[0m \u001b[0;32mimport\u001b[0m \u001b[0mnumpy\u001b[0m \u001b[0;32mas\u001b[0m \u001b[0mnp\u001b[0m\u001b[0;34m\u001b[0m\u001b[0;34m\u001b[0m\u001b[0m\n\u001b[1;32m      7\u001b[0m \u001b[0;34m\u001b[0m\u001b[0m\n\u001b[0;32m----> 8\u001b[0;31m \u001b[0;32mfrom\u001b[0m \u001b[0;34m.\u001b[0m \u001b[0;32mimport\u001b[0m \u001b[0matom\u001b[0m\u001b[0;34m\u001b[0m\u001b[0;34m\u001b[0m\u001b[0m\n\u001b[0m\u001b[1;32m      9\u001b[0m \u001b[0;32mfrom\u001b[0m \u001b[0;34m.\u001b[0m\u001b[0mpath\u001b[0m \u001b[0;32mimport\u001b[0m \u001b[0mcheck_name_validity\u001b[0m\u001b[0;34m\u001b[0m\u001b[0;34m\u001b[0m\u001b[0m\n\u001b[1;32m     10\u001b[0m \u001b[0;34m\u001b[0m\u001b[0m\n",
      "\u001b[0;32m~/opt/anaconda3/envs/DEEPLABCUT_M1/lib/python3.7/site-packages/tables/atom.py\u001b[0m in \u001b[0;36m<module>\u001b[0;34m\u001b[0m\n\u001b[1;32m      7\u001b[0m \u001b[0;32mimport\u001b[0m \u001b[0mnumpy\u001b[0m \u001b[0;32mas\u001b[0m \u001b[0mnp\u001b[0m\u001b[0;34m\u001b[0m\u001b[0;34m\u001b[0m\u001b[0m\n\u001b[1;32m      8\u001b[0m \u001b[0;34m\u001b[0m\u001b[0m\n\u001b[0;32m----> 9\u001b[0;31m \u001b[0;32mfrom\u001b[0m \u001b[0;34m.\u001b[0m\u001b[0mutils\u001b[0m \u001b[0;32mimport\u001b[0m \u001b[0mSizeType\u001b[0m\u001b[0;34m\u001b[0m\u001b[0;34m\u001b[0m\u001b[0m\n\u001b[0m\u001b[1;32m     10\u001b[0m \u001b[0;32mfrom\u001b[0m \u001b[0;34m.\u001b[0m\u001b[0mmisc\u001b[0m\u001b[0;34m.\u001b[0m\u001b[0menum\u001b[0m \u001b[0;32mimport\u001b[0m \u001b[0mEnum\u001b[0m\u001b[0;34m\u001b[0m\u001b[0;34m\u001b[0m\u001b[0m\n\u001b[1;32m     11\u001b[0m \u001b[0;34m\u001b[0m\u001b[0m\n",
      "\u001b[0;32m~/opt/anaconda3/envs/DEEPLABCUT_M1/lib/python3.7/site-packages/tables/utils.py\u001b[0m in \u001b[0;36m<module>\u001b[0;34m\u001b[0m\n\u001b[1;32m     11\u001b[0m \u001b[0;32mimport\u001b[0m \u001b[0mnumpy\u001b[0m \u001b[0;32mas\u001b[0m \u001b[0mnp\u001b[0m\u001b[0;34m\u001b[0m\u001b[0;34m\u001b[0m\u001b[0m\n\u001b[1;32m     12\u001b[0m \u001b[0;34m\u001b[0m\u001b[0m\n\u001b[0;32m---> 13\u001b[0;31m \u001b[0;32mfrom\u001b[0m \u001b[0;34m.\u001b[0m\u001b[0mflavor\u001b[0m \u001b[0;32mimport\u001b[0m \u001b[0marray_of_flavor\u001b[0m\u001b[0;34m\u001b[0m\u001b[0;34m\u001b[0m\u001b[0m\n\u001b[0m\u001b[1;32m     14\u001b[0m \u001b[0;34m\u001b[0m\u001b[0m\n\u001b[1;32m     15\u001b[0m \u001b[0;31m# The map between byteorders in NumPy and PyTables\u001b[0m\u001b[0;34m\u001b[0m\u001b[0;34m\u001b[0m\u001b[0;34m\u001b[0m\u001b[0m\n",
      "\u001b[0;32m~/opt/anaconda3/envs/DEEPLABCUT_M1/lib/python3.7/site-packages/tables/flavor.py\u001b[0m in \u001b[0;36m<module>\u001b[0;34m\u001b[0m\n\u001b[1;32m    334\u001b[0m \u001b[0;34m\u001b[0m\u001b[0m\n\u001b[1;32m    335\u001b[0m \u001b[0;34m\u001b[0m\u001b[0m\n\u001b[0;32m--> 336\u001b[0;31m \u001b[0;32mif\u001b[0m \u001b[0mnp\u001b[0m\u001b[0;34m.\u001b[0m\u001b[0mlib\u001b[0m\u001b[0;34m.\u001b[0m\u001b[0mNumpyVersion\u001b[0m\u001b[0;34m(\u001b[0m\u001b[0mnp\u001b[0m\u001b[0;34m.\u001b[0m\u001b[0m__version__\u001b[0m\u001b[0;34m)\u001b[0m \u001b[0;34m>=\u001b[0m \u001b[0mnp\u001b[0m\u001b[0;34m.\u001b[0m\u001b[0mlib\u001b[0m\u001b[0;34m.\u001b[0m\u001b[0mNumpyVersion\u001b[0m\u001b[0;34m(\u001b[0m\u001b[0;34m'1.19.0'\u001b[0m\u001b[0;34m)\u001b[0m\u001b[0;34m:\u001b[0m\u001b[0;34m\u001b[0m\u001b[0;34m\u001b[0m\u001b[0m\n\u001b[0m\u001b[1;32m    337\u001b[0m     \u001b[0;32mdef\u001b[0m \u001b[0mtoarray\u001b[0m\u001b[0;34m(\u001b[0m\u001b[0marray\u001b[0m\u001b[0;34m,\u001b[0m \u001b[0;34m*\u001b[0m\u001b[0margs\u001b[0m\u001b[0;34m,\u001b[0m \u001b[0;34m**\u001b[0m\u001b[0mkwargs\u001b[0m\u001b[0;34m)\u001b[0m\u001b[0;34m:\u001b[0m\u001b[0;34m\u001b[0m\u001b[0;34m\u001b[0m\u001b[0m\n\u001b[1;32m    338\u001b[0m         \u001b[0;32mwith\u001b[0m \u001b[0mwarnings\u001b[0m\u001b[0;34m.\u001b[0m\u001b[0mcatch_warnings\u001b[0m\u001b[0;34m(\u001b[0m\u001b[0;34m)\u001b[0m\u001b[0;34m:\u001b[0m\u001b[0;34m\u001b[0m\u001b[0;34m\u001b[0m\u001b[0m\n",
      "\u001b[0;32m~/opt/anaconda3/envs/DEEPLABCUT_M1/lib/python3.7/site-packages/numpy/lib/_version.py\u001b[0m in \u001b[0;36m__ge__\u001b[0;34m(self, other)\u001b[0m\n\u001b[1;32m    150\u001b[0m \u001b[0;34m\u001b[0m\u001b[0m\n\u001b[1;32m    151\u001b[0m     \u001b[0;32mdef\u001b[0m \u001b[0m__ge__\u001b[0m\u001b[0;34m(\u001b[0m\u001b[0mself\u001b[0m\u001b[0;34m,\u001b[0m \u001b[0mother\u001b[0m\u001b[0;34m)\u001b[0m\u001b[0;34m:\u001b[0m\u001b[0;34m\u001b[0m\u001b[0;34m\u001b[0m\u001b[0m\n\u001b[0;32m--> 152\u001b[0;31m         \u001b[0;32mreturn\u001b[0m \u001b[0mself\u001b[0m\u001b[0;34m.\u001b[0m\u001b[0m_compare\u001b[0m\u001b[0;34m(\u001b[0m\u001b[0mother\u001b[0m\u001b[0;34m)\u001b[0m \u001b[0;34m>=\u001b[0m \u001b[0;36m0\u001b[0m\u001b[0;34m\u001b[0m\u001b[0;34m\u001b[0m\u001b[0m\n\u001b[0m\u001b[1;32m    153\u001b[0m \u001b[0;34m\u001b[0m\u001b[0m\n\u001b[1;32m    154\u001b[0m     \u001b[0;32mdef\u001b[0m \u001b[0m__repr\u001b[0m\u001b[0;34m(\u001b[0m\u001b[0mself\u001b[0m\u001b[0;34m)\u001b[0m\u001b[0;34m:\u001b[0m\u001b[0;34m\u001b[0m\u001b[0;34m\u001b[0m\u001b[0m\n",
      "\u001b[0;32m~/opt/anaconda3/envs/DEEPLABCUT_M1/lib/python3.7/site-packages/numpy/lib/_version.py\u001b[0m in \u001b[0;36m_compare\u001b[0;34m(self, other)\u001b[0m\n\u001b[1;32m    114\u001b[0m     \u001b[0;32mdef\u001b[0m \u001b[0m_compare\u001b[0m\u001b[0;34m(\u001b[0m\u001b[0mself\u001b[0m\u001b[0;34m,\u001b[0m \u001b[0mother\u001b[0m\u001b[0;34m)\u001b[0m\u001b[0;34m:\u001b[0m\u001b[0;34m\u001b[0m\u001b[0;34m\u001b[0m\u001b[0m\n\u001b[1;32m    115\u001b[0m         \u001b[0;32mif\u001b[0m \u001b[0;32mnot\u001b[0m \u001b[0misinstance\u001b[0m\u001b[0;34m(\u001b[0m\u001b[0mother\u001b[0m\u001b[0;34m,\u001b[0m \u001b[0;34m(\u001b[0m\u001b[0mstr\u001b[0m\u001b[0;34m,\u001b[0m \u001b[0mNumpyVersion\u001b[0m\u001b[0;34m)\u001b[0m\u001b[0;34m)\u001b[0m\u001b[0;34m:\u001b[0m\u001b[0;34m\u001b[0m\u001b[0;34m\u001b[0m\u001b[0m\n\u001b[0;32m--> 116\u001b[0;31m             \u001b[0;32mraise\u001b[0m \u001b[0mValueError\u001b[0m\u001b[0;34m(\u001b[0m\u001b[0;34m\"Invalid object to compare with NumpyVersion.\"\u001b[0m\u001b[0;34m)\u001b[0m\u001b[0;34m\u001b[0m\u001b[0;34m\u001b[0m\u001b[0m\n\u001b[0m\u001b[1;32m    117\u001b[0m \u001b[0;34m\u001b[0m\u001b[0m\n\u001b[1;32m    118\u001b[0m         \u001b[0;32mif\u001b[0m \u001b[0misinstance\u001b[0m\u001b[0;34m(\u001b[0m\u001b[0mother\u001b[0m\u001b[0;34m,\u001b[0m \u001b[0mstr\u001b[0m\u001b[0;34m)\u001b[0m\u001b[0;34m:\u001b[0m\u001b[0;34m\u001b[0m\u001b[0;34m\u001b[0m\u001b[0m\n",
      "\u001b[0;31mValueError\u001b[0m: Invalid object to compare with NumpyVersion."
     ]
    }
   ],
   "source": [
    "dlc.evaluate_network(configPath,Shuffles=[1], plotting=True)"
   ]
  },
  {
   "cell_type": "code",
   "execution_count": 9,
   "metadata": {},
   "outputs": [
    {
     "ename": "SystemExit",
     "evalue": "This program needs access to the screen. Please run with a\nFramework build of python, and only when you are logged in\non the main display of your Mac.",
     "output_type": "error",
     "traceback": [
      "An exception has occurred, use %tb to see the full traceback.\n",
      "\u001b[0;31mSystemExit\u001b[0m\u001b[0;31m:\u001b[0m This program needs access to the screen. Please run with a\nFramework build of python, and only when you are logged in\non the main display of your Mac.\n"
     ]
    },
    {
     "name": "stderr",
     "output_type": "stream",
     "text": [
      "/Users/mmchenry/opt/anaconda3/envs/DEEPLABCUT_M1/lib/python3.7/site-packages/IPython/core/interactiveshell.py:3560: UserWarning: To exit: use 'exit', 'quit', or Ctrl-D.\n",
      "  warn(\"To exit: use 'exit', 'quit', or Ctrl-D.\", stacklevel=1)\n"
     ]
    }
   ],
   "source": [
    "dlc.refine_labels(configPath)"
   ]
  },
  {
   "cell_type": "code",
   "execution_count": null,
   "metadata": {},
   "outputs": [],
   "source": []
  }
 ],
 "metadata": {
  "interpreter": {
   "hash": "e05c36ae9de461e76ee64b85067b421b4b87fac5782ad3fa3d1d5b67213d89c3"
  },
  "kernelspec": {
   "display_name": "Python 3.7.12 ('DEEPLABCUT_M1')",
   "language": "python",
   "name": "python3"
  },
  "language_info": {
   "codemirror_mode": {
    "name": "ipython",
    "version": 3
   },
   "file_extension": ".py",
   "mimetype": "text/x-python",
   "name": "python",
   "nbconvert_exporter": "python",
   "pygments_lexer": "ipython3",
   "version": "3.7.12"
  },
  "orig_nbformat": 4
 },
 "nbformat": 4,
 "nbformat_minor": 2
}
