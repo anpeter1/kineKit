{
 "cells": [
  {
   "cell_type": "markdown",
   "metadata": {},
   "source": [
    "# Overview\n",
    "\n",
    "This notebook steps through the use of DeepLabCut after the initial training. "
   ]
  },
  {
   "cell_type": "markdown",
   "metadata": {},
   "source": [
    "# Define paths and import packages"
   ]
  },
  {
   "cell_type": "code",
   "execution_count": null,
   "metadata": {},
   "outputs": [],
   "source": [
    "# Import essential packages\n",
    "import deeplabcut as dlc\n",
    "import os\n",
    "\n",
    "# Path to config.yaml\n",
    "configPath = '/home/mmchenry/Documents/geotaxis/geotaxis-mmchenry-2022-05-25/config.yaml'\n",
    "\n",
    "# Place all your videos for training and analysis in a directory and specify the path to that directory here\n",
    "videoPath   = '/home/mmchenry/Documents/geotaxis/Videos'\n",
    "\n",
    "# Extension to video files\n",
    "vidFileExt = 'mp4'"
   ]
  },
  {
   "cell_type": "markdown",
   "metadata": {},
   "source": [
    "# Evaluate the network"
   ]
  },
  {
   "cell_type": "code",
   "execution_count": null,
   "metadata": {},
   "outputs": [],
   "source": [
    "dlc.evaluate_network(configPath,plotting=True)"
   ]
  },
  {
   "cell_type": "code",
   "execution_count": null,
   "metadata": {},
   "outputs": [],
   "source": [
    "dlc.analyze_videos(configPath,videoPath,save_as_csv=True)"
   ]
  },
  {
   "cell_type": "code",
   "execution_count": null,
   "metadata": {},
   "outputs": [],
   "source": [
    "dlc.filterpredictions(configPath,videoPath)"
   ]
  },
  {
   "cell_type": "code",
   "execution_count": null,
   "metadata": {},
   "outputs": [],
   "source": [
    "dlc.create_labeled_video(configPath,videoPath,filtered=True,videotype=('.' + vidFileExt),trailpoints=1)"
   ]
  },
  {
   "cell_type": "code",
   "execution_count": null,
   "metadata": {},
   "outputs": [],
   "source": [
    "dlc.extract_outlier_frames(configPath,videoPath,automatic=True)"
   ]
  },
  {
   "cell_type": "markdown",
   "metadata": {},
   "source": [
    "# Refine labels"
   ]
  },
  {
   "cell_type": "code",
   "execution_count": null,
   "metadata": {},
   "outputs": [],
   "source": [
    "dlc.refine_labels(configPath)"
   ]
  }
 ],
 "metadata": {
  "interpreter": {
   "hash": "1102ecce43ac3a61cbc2f3701adc5a6f5992e0e05f95e28a6796c1ac6966ffa1"
  },
  "kernelspec": {
   "display_name": "Python 3.8.13 ('DEEPLABCUT')",
   "language": "python",
   "name": "python3"
  },
  "language_info": {
   "codemirror_mode": {
    "name": "ipython",
    "version": 3
   },
   "file_extension": ".py",
   "mimetype": "text/x-python",
   "name": "python",
   "nbconvert_exporter": "python",
   "pygments_lexer": "ipython3",
   "version": "3.8.13"
  },
  "orig_nbformat": 4
 },
 "nbformat": 4,
 "nbformat_minor": 2
}
